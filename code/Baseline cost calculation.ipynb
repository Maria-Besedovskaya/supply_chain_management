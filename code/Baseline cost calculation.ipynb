{
 "cells": [
  {
   "cell_type": "code",
   "execution_count": 3,
   "id": "95ac60d8",
   "metadata": {},
   "outputs": [],
   "source": [
    "import pandas as pd \n",
    "import numpy as np"
   ]
  },
  {
   "cell_type": "code",
   "execution_count": 20,
   "id": "7476b905",
   "metadata": {},
   "outputs": [],
   "source": [
    "orderList = pd.read_csv(\"orderList1.csv\")\n",
    "freightRates = pd.read_csv(\"freightRates1.csv\")\n",
    "\n",
    "excel_file_path = \"../Raw Data/Supply chain logistics problem2.xlsx\"\n",
    "plantCosts = pd.read_excel(excel_file_path, sheet_name='WhCosts')\n",
    "plantPorts = pd.read_excel(excel_file_path, sheet_name='PlantPorts')"
   ]
  },
  {
   "cell_type": "code",
   "execution_count": 68,
   "id": "fed59526",
   "metadata": {},
   "outputs": [],
   "source": [
    "portRates = freightRates.groupby(\"orig_port_cd\").mean()[['rate', \"tpt_day_cnt\"]]"
   ]
  },
  {
   "cell_type": "code",
   "execution_count": 69,
   "id": "4e0c3722",
   "metadata": {},
   "outputs": [],
   "source": [
    "df = orderList[['origin_port', 'plant_code', 'unit_quantity', 'weight']]\n",
    "df = pd.merge(df, plantCosts, how=\"left\", left_on=\"plant_code\", right_on=\"WH\")\n",
    "df = pd.merge(df, plantPorts, how=\"left\", left_on=[\"plant_code\", \"origin_port\"], right_on=[\"Plant Code\", \"Port\"])\n",
    "df.rename(columns={\"Cost/unit\":\"cost_j\", \"Cost (extra column)\":\"cost_jk\"}, inplace=True)\n",
    "\n",
    "df = pd.merge(df, portRates, how=\"left\", left_on=\"origin_port\", right_on=\"orig_port_cd\")"
   ]
  },
  {
   "cell_type": "markdown",
   "id": "30c1a1de",
   "metadata": {},
   "source": [
    "## Calculate objective values"
   ]
  },
  {
   "cell_type": "code",
   "execution_count": 70,
   "id": "26344c6e",
   "metadata": {},
   "outputs": [
    {
     "name": "stdout",
     "output_type": "stream",
     "text": [
      "Baseline cost:  10279967.989793185\n"
     ]
    }
   ],
   "source": [
    "## Baseline costs, without taking time into consideration\n",
    "baseline_no_time = sum(df['unit_quantity'] * df['cost_j']) + sum(df['unit_quantity'] * df['cost_jk']) + sum(df['weight'] * df['rate'])\n",
    "print(\"Baseline cost: \", baseline_no_time)"
   ]
  },
  {
   "cell_type": "code",
   "execution_count": 71,
   "id": "3afd2af4",
   "metadata": {},
   "outputs": [
    {
     "name": "stdout",
     "output_type": "stream",
     "text": [
      "Baseline time taken: 1960.5\n"
     ]
    }
   ],
   "source": [
    "## Baseline total time taken\n",
    "baseline_total_time = sum(df['tpt_day_cnt'])\n",
    "print(\"Baseline time taken:\", baseline_total_time)"
   ]
  }
 ],
 "metadata": {
  "kernelspec": {
   "display_name": "Python 3",
   "language": "python",
   "name": "python3"
  },
  "language_info": {
   "codemirror_mode": {
    "name": "ipython",
    "version": 3
   },
   "file_extension": ".py",
   "mimetype": "text/x-python",
   "name": "python",
   "nbconvert_exporter": "python",
   "pygments_lexer": "ipython3",
   "version": "3.9.0"
  }
 },
 "nbformat": 4,
 "nbformat_minor": 5
}
